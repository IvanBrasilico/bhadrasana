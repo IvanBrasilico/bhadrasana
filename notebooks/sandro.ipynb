{
 "cells": [
  {
   "cell_type": "code",
   "execution_count": 1,
   "metadata": {
    "slideshow": {
     "slide_type": "slide"
    }
   },
   "outputs": [
    {
     "name": "stderr",
     "output_type": "stream",
     "text": [
      "Process STDOUT and STDERR is being redirected to /tmp/raylogs/.\n",
      "Waiting for redis server at 127.0.0.1:45489 to respond...\n",
      "Waiting for redis server at 127.0.0.1:56148 to respond...\n",
      "Starting local scheduler with the following resources: {'CPU': 4, 'GPU': 0}.\n",
      "\n",
      "======================================================================\n",
      "View the web UI at http://localhost:8889/notebooks/ray_ui61985.ipynb?token=cc945fdb07e31581d65f0fc18ef4ae333a0aafddcd3d9186\n",
      "======================================================================\n",
      "\n"
     ]
    }
   ],
   "source": [
    "import os\n",
    "# import pandas as pd\n",
    "import modin.pandas as pd\n",
    "from bhadrasana.conf import ENCODE, tmpdir\n",
    "from bhadrasana.utils.csv_handlers import sch_processing"
   ]
  },
  {
   "cell_type": "code",
   "execution_count": 2,
   "metadata": {
    "slideshow": {
     "slide_type": "subslide"
    }
   },
   "outputs": [],
   "source": [
    "CAMINHO = '/home/ivan/Downloads'\n",
    "ARQUIVO = 'DESCARREGADOS201711.zip'\n",
    "lista = sch_processing(os.path.join(CAMINHO, ARQUIVO),\n",
    "               dest_path='.')\n"
   ]
  },
  {
   "cell_type": "code",
   "execution_count": 3,
   "metadata": {
    "slideshow": {
     "slide_type": "slide"
    }
   },
   "outputs": [
    {
     "name": "stdout",
     "output_type": "stream",
     "text": [
      "(73507, 117)\n"
     ]
    },
    {
     "data": {
      "text/html": [
       "<div>\n",
       "<style scoped>\n",
       "    .dataframe tbody tr th:only-of-type {\n",
       "        vertical-align: middle;\n",
       "    }\n",
       "\n",
       "    .dataframe tbody tr th {\n",
       "        vertical-align: top;\n",
       "    }\n",
       "\n",
       "    .dataframe thead th {\n",
       "        text-align: right;\n",
       "    }\n",
       "</style>\n",
       "<table border=\"1\" class=\"dataframe\">\n",
       "  <thead>\n",
       "    <tr style=\"text-align: right;\">\n",
       "      <th></th>\n",
       "      <th>Conhecimento</th>\n",
       "      <th>QuantidadeBloqueiosAtivos</th>\n",
       "      <th>QuantidadeBloqueiosInativos</th>\n",
       "      <th>TipoBloqueio1</th>\n",
       "      <th>MotivoBloqueio1</th>\n",
       "      <th>JustificativaBloqueio1</th>\n",
       "      <th>CPFResponsavelBloqueio1</th>\n",
       "      <th>NomeResponsavelBloqueio1</th>\n",
       "      <th>DataBloqueio1</th>\n",
       "      <th>HoraBloqueio1</th>\n",
       "      <th>...</th>\n",
       "      <th>NomeAgenteNavegacaoDesconsolidador</th>\n",
       "      <th>CodigoAgenteNavegacaoDesconsolidador</th>\n",
       "      <th>NomeNavioPrimeiroTransporte</th>\n",
       "      <th>DataEmissaoBLPrimeiroTransporte</th>\n",
       "      <th>BLPrimeiroTransporte</th>\n",
       "      <th>ValorFrete</th>\n",
       "      <th>MoedaFrete</th>\n",
       "      <th>ModalidadeFrete</th>\n",
       "      <th>RecolhimentoFrete</th>\n",
       "      <th>IndicadorCargaConteinerizada</th>\n",
       "    </tr>\n",
       "  </thead>\n",
       "  <tbody>\n",
       "    <tr>\n",
       "      <th>0</th>\n",
       "      <td>151705229008681</td>\n",
       "      <td>NaN</td>\n",
       "      <td>00</td>\n",
       "      <td>NaN</td>\n",
       "      <td>NaN</td>\n",
       "      <td>NaN</td>\n",
       "      <td>NaN</td>\n",
       "      <td>NaN</td>\n",
       "      <td>NaN</td>\n",
       "      <td>NaN</td>\n",
       "      <td>...</td>\n",
       "      <td>NaN</td>\n",
       "      <td>NaN</td>\n",
       "      <td>JPO SCORPIUS</td>\n",
       "      <td>NaN</td>\n",
       "      <td>NaN</td>\n",
       "      <td>00000004274,00</td>\n",
       "      <td>DOLAR DOS EUA</td>\n",
       "      <td>HOUSE TO HOUSE</td>\n",
       "      <td>COLLECT</td>\n",
       "      <td>S</td>\n",
       "    </tr>\n",
       "    <tr>\n",
       "      <th>1</th>\n",
       "      <td>151705229008843</td>\n",
       "      <td>NaN</td>\n",
       "      <td>00</td>\n",
       "      <td>NaN</td>\n",
       "      <td>NaN</td>\n",
       "      <td>NaN</td>\n",
       "      <td>NaN</td>\n",
       "      <td>NaN</td>\n",
       "      <td>NaN</td>\n",
       "      <td>NaN</td>\n",
       "      <td>...</td>\n",
       "      <td>NaN</td>\n",
       "      <td>NaN</td>\n",
       "      <td>JPO SCORPIUS</td>\n",
       "      <td>NaN</td>\n",
       "      <td>NaN</td>\n",
       "      <td>00000000350,00</td>\n",
       "      <td>DOLAR DOS EUA</td>\n",
       "      <td>HOUSE TO HOUSE</td>\n",
       "      <td>PREPAID</td>\n",
       "      <td>S</td>\n",
       "    </tr>\n",
       "    <tr>\n",
       "      <th>2</th>\n",
       "      <td>151705229008924</td>\n",
       "      <td>NaN</td>\n",
       "      <td>00</td>\n",
       "      <td>NaN</td>\n",
       "      <td>NaN</td>\n",
       "      <td>NaN</td>\n",
       "      <td>NaN</td>\n",
       "      <td>NaN</td>\n",
       "      <td>NaN</td>\n",
       "      <td>NaN</td>\n",
       "      <td>...</td>\n",
       "      <td>NaN</td>\n",
       "      <td>NaN</td>\n",
       "      <td>JPO SCORPIUS</td>\n",
       "      <td>NaN</td>\n",
       "      <td>NaN</td>\n",
       "      <td>00000000350,00</td>\n",
       "      <td>DOLAR DOS EUA</td>\n",
       "      <td>HOUSE TO HOUSE</td>\n",
       "      <td>PREPAID</td>\n",
       "      <td>S</td>\n",
       "    </tr>\n",
       "    <tr>\n",
       "      <th>3</th>\n",
       "      <td>151705229009068</td>\n",
       "      <td>NaN</td>\n",
       "      <td>00</td>\n",
       "      <td>NaN</td>\n",
       "      <td>NaN</td>\n",
       "      <td>NaN</td>\n",
       "      <td>NaN</td>\n",
       "      <td>NaN</td>\n",
       "      <td>NaN</td>\n",
       "      <td>NaN</td>\n",
       "      <td>...</td>\n",
       "      <td>NaN</td>\n",
       "      <td>NaN</td>\n",
       "      <td>JPO SCORPIUS</td>\n",
       "      <td>NaN</td>\n",
       "      <td>NaN</td>\n",
       "      <td>00000000350,00</td>\n",
       "      <td>DOLAR DOS EUA</td>\n",
       "      <td>HOUSE TO HOUSE</td>\n",
       "      <td>PREPAID</td>\n",
       "      <td>S</td>\n",
       "    </tr>\n",
       "    <tr>\n",
       "      <th>4</th>\n",
       "      <td>151705229009149</td>\n",
       "      <td>NaN</td>\n",
       "      <td>00</td>\n",
       "      <td>NaN</td>\n",
       "      <td>NaN</td>\n",
       "      <td>NaN</td>\n",
       "      <td>NaN</td>\n",
       "      <td>NaN</td>\n",
       "      <td>NaN</td>\n",
       "      <td>NaN</td>\n",
       "      <td>...</td>\n",
       "      <td>NaN</td>\n",
       "      <td>NaN</td>\n",
       "      <td>JPO SCORPIUS</td>\n",
       "      <td>NaN</td>\n",
       "      <td>NaN</td>\n",
       "      <td>00000000350,00</td>\n",
       "      <td>DOLAR DOS EUA</td>\n",
       "      <td>HOUSE TO HOUSE</td>\n",
       "      <td>PREPAID</td>\n",
       "      <td>S</td>\n",
       "    </tr>\n",
       "  </tbody>\n",
       "</table>\n",
       "<p>5 rows x 117 columns</p>\n",
       "</div>"
      ],
      "text/plain": [
       "      Conhecimento QuantidadeBloqueiosAtivos QuantidadeBloqueiosInativos  \\\n",
       "0  151705229008681                       NaN                          00   \n",
       "1  151705229008843                       NaN                          00   \n",
       "2  151705229008924                       NaN                          00   \n",
       "3  151705229009068                       NaN                          00   \n",
       "4  151705229009149                       NaN                          00   \n",
       "\n",
       "  TipoBloqueio1 MotivoBloqueio1 JustificativaBloqueio1  \\\n",
       "0           NaN             NaN                    NaN   \n",
       "1           NaN             NaN                    NaN   \n",
       "2           NaN             NaN                    NaN   \n",
       "3           NaN             NaN                    NaN   \n",
       "4           NaN             NaN                    NaN   \n",
       "\n",
       "  CPFResponsavelBloqueio1 NomeResponsavelBloqueio1 DataBloqueio1  \\\n",
       "0                     NaN                      NaN           NaN   \n",
       "1                     NaN                      NaN           NaN   \n",
       "2                     NaN                      NaN           NaN   \n",
       "3                     NaN                      NaN           NaN   \n",
       "4                     NaN                      NaN           NaN   \n",
       "\n",
       "  HoraBloqueio1             ...               \\\n",
       "0           NaN             ...                \n",
       "1           NaN             ...                \n",
       "2           NaN             ...                \n",
       "3           NaN             ...                \n",
       "4           NaN             ...                \n",
       "\n",
       "  NomeAgenteNavegacaoDesconsolidador CodigoAgenteNavegacaoDesconsolidador  \\\n",
       "0                                NaN                                  NaN   \n",
       "1                                NaN                                  NaN   \n",
       "2                                NaN                                  NaN   \n",
       "3                                NaN                                  NaN   \n",
       "4                                NaN                                  NaN   \n",
       "\n",
       "  NomeNavioPrimeiroTransporte DataEmissaoBLPrimeiroTransporte  \\\n",
       "0                JPO SCORPIUS                             NaN   \n",
       "1                JPO SCORPIUS                             NaN   \n",
       "2                JPO SCORPIUS                             NaN   \n",
       "3                JPO SCORPIUS                             NaN   \n",
       "4                JPO SCORPIUS                             NaN   \n",
       "\n",
       "  BLPrimeiroTransporte      ValorFrete     MoedaFrete ModalidadeFrete  \\\n",
       "0                  NaN  00000004274,00  DOLAR DOS EUA  HOUSE TO HOUSE   \n",
       "1                  NaN  00000000350,00  DOLAR DOS EUA  HOUSE TO HOUSE   \n",
       "2                  NaN  00000000350,00  DOLAR DOS EUA  HOUSE TO HOUSE   \n",
       "3                  NaN  00000000350,00  DOLAR DOS EUA  HOUSE TO HOUSE   \n",
       "4                  NaN  00000000350,00  DOLAR DOS EUA  HOUSE TO HOUSE   \n",
       "\n",
       "  RecolhimentoFrete IndicadorCargaConteinerizada  \n",
       "0           COLLECT                            S  \n",
       "1           PREPAID                            S  \n",
       "2           PREPAID                            S  \n",
       "3           PREPAID                            S  \n",
       "4           PREPAID                            S  \n",
       "\n",
       "[5 rows x 117 columns]"
      ]
     },
     "execution_count": 3,
     "metadata": {},
     "output_type": "execute_result"
    }
   ],
   "source": [
    "import time\n",
    "s0 = time.time()\n",
    "df_conhecimento = pd.read_csv('Conhecimento.csv',\n",
    "                              encoding=ENCODE, dtype=str)\n",
    "print(df_conhecimento.shape)\n",
    "df_conhecimento.head()"
   ]
  },
  {
   "cell_type": "code",
   "execution_count": 4,
   "metadata": {
    "slideshow": {
     "slide_type": "fragment"
    }
   },
   "outputs": [
    {
     "name": "stdout",
     "output_type": "stream",
     "text": [
      "TipoBloqueio1\n",
      "TipoBloqueio2\n",
      "TipoBloqueio3\n",
      "TipoBloqueio4\n",
      "Tipo\n",
      "TipoDocDespachoNaturezaDSI\n"
     ]
    }
   ],
   "source": [
    "for column in df_conhecimento.columns:\n",
    "    if 'tipo' in column.lower():\n",
    "        print(column)"
   ]
  },
  {
   "cell_type": "code",
   "execution_count": 5,
   "metadata": {},
   "outputs": [
    {
     "name": "stdout",
     "output_type": "stream",
     "text": [
      "73509\n"
     ]
    },
    {
     "data": {
      "text/html": [
       "<div>\n",
       "<style scoped>\n",
       "    .dataframe tbody tr th:only-of-type {\n",
       "        vertical-align: middle;\n",
       "    }\n",
       "\n",
       "    .dataframe tbody tr th {\n",
       "        vertical-align: top;\n",
       "    }\n",
       "\n",
       "    .dataframe thead th {\n",
       "        text-align: right;\n",
       "    }\n",
       "</style>\n",
       "<table border=\"1\" class=\"dataframe\">\n",
       "  <thead>\n",
       "    <tr style=\"text-align: right;\">\n",
       "      <th></th>\n",
       "      <th>Manifesto</th>\n",
       "      <th>Conhecimento</th>\n",
       "      <th>CodigoTerminalCarregamento</th>\n",
       "      <th>NomeTerminalCarregamento</th>\n",
       "      <th>CodigoTerminalDescarregamento</th>\n",
       "      <th>NomeTerminalDescarregamento</th>\n",
       "    </tr>\n",
       "  </thead>\n",
       "  <tbody>\n",
       "    <tr>\n",
       "      <th>0</th>\n",
       "      <td>1517502472520</td>\n",
       "      <td>151705229008681</td>\n",
       "      <td>NaN</td>\n",
       "      <td>ZARATE</td>\n",
       "      <td>BRSSZ016</td>\n",
       "      <td>SANTOS BRASIL</td>\n",
       "    </tr>\n",
       "    <tr>\n",
       "      <th>1</th>\n",
       "      <td>1517502472520</td>\n",
       "      <td>151705229008843</td>\n",
       "      <td>NaN</td>\n",
       "      <td>ZARATE</td>\n",
       "      <td>BRSSZ016</td>\n",
       "      <td>SANTOS BRASIL</td>\n",
       "    </tr>\n",
       "    <tr>\n",
       "      <th>2</th>\n",
       "      <td>1517502472520</td>\n",
       "      <td>151705229008924</td>\n",
       "      <td>NaN</td>\n",
       "      <td>ZARATE</td>\n",
       "      <td>BRSSZ016</td>\n",
       "      <td>SANTOS BRASIL</td>\n",
       "    </tr>\n",
       "    <tr>\n",
       "      <th>3</th>\n",
       "      <td>1517502472520</td>\n",
       "      <td>151705229009068</td>\n",
       "      <td>NaN</td>\n",
       "      <td>ZARATE</td>\n",
       "      <td>BRSSZ016</td>\n",
       "      <td>SANTOS BRASIL</td>\n",
       "    </tr>\n",
       "    <tr>\n",
       "      <th>4</th>\n",
       "      <td>1517502472520</td>\n",
       "      <td>151705229009149</td>\n",
       "      <td>NaN</td>\n",
       "      <td>ZARATE</td>\n",
       "      <td>BRSSZ016</td>\n",
       "      <td>SANTOS BRASIL</td>\n",
       "    </tr>\n",
       "  </tbody>\n",
       "</table>\n",
       "</div>"
      ],
      "text/plain": [
       "       Manifesto     Conhecimento CodigoTerminalCarregamento  \\\n",
       "0  1517502472520  151705229008681                        NaN   \n",
       "1  1517502472520  151705229008843                        NaN   \n",
       "2  1517502472520  151705229008924                        NaN   \n",
       "3  1517502472520  151705229009068                        NaN   \n",
       "4  1517502472520  151705229009149                        NaN   \n",
       "\n",
       "  NomeTerminalCarregamento CodigoTerminalDescarregamento  \\\n",
       "0                   ZARATE                      BRSSZ016   \n",
       "1                   ZARATE                      BRSSZ016   \n",
       "2                   ZARATE                      BRSSZ016   \n",
       "3                   ZARATE                      BRSSZ016   \n",
       "4                   ZARATE                      BRSSZ016   \n",
       "\n",
       "  NomeTerminalDescarregamento  \n",
       "0               SANTOS BRASIL  \n",
       "1               SANTOS BRASIL  \n",
       "2               SANTOS BRASIL  \n",
       "3               SANTOS BRASIL  \n",
       "4               SANTOS BRASIL  "
      ]
     },
     "execution_count": 5,
     "metadata": {},
     "output_type": "execute_result"
    }
   ],
   "source": [
    "df_mc =  pd.read_csv('ManifestoConhecimento.csv',\n",
    "                              encoding=ENCODE, dtype=str)\n",
    "print(len(df_mc))\n",
    "df_mc.head()"
   ]
  },
  {
   "cell_type": "code",
   "execution_count": 7,
   "metadata": {},
   "outputs": [
    {
     "ename": "NotImplementedError",
     "evalue": "To contribute to Pandas on Ray, please visit github.com/modin-project/modin.",
     "output_type": "error",
     "traceback": [
      "\u001b[0;31m---------------------------------------------------------------------------\u001b[0m",
      "\u001b[0;31mNotImplementedError\u001b[0m                       Traceback (most recent call last)",
      "\u001b[0;32m<ipython-input-7-b6ff3bd887a0>\u001b[0m in \u001b[0;36m<module>\u001b[0;34m()\u001b[0m\n\u001b[0;32m----> 1\u001b[0;31m \u001b[0mdf_merge1\u001b[0m \u001b[0;34m=\u001b[0m \u001b[0mdf_mc\u001b[0m\u001b[0;34m.\u001b[0m\u001b[0mmerge\u001b[0m\u001b[0;34m(\u001b[0m\u001b[0mdf_conhecimento\u001b[0m\u001b[0;34m,\u001b[0m \u001b[0mon\u001b[0m\u001b[0;34m=\u001b[0m\u001b[0;34m'Conhecimento'\u001b[0m\u001b[0;34m)\u001b[0m\u001b[0;34m\u001b[0m\u001b[0m\n\u001b[0m\u001b[1;32m      2\u001b[0m \u001b[0mprint\u001b[0m\u001b[0;34m(\u001b[0m\u001b[0mlen\u001b[0m\u001b[0;34m(\u001b[0m\u001b[0mdf_merge1\u001b[0m\u001b[0;34m)\u001b[0m\u001b[0;34m)\u001b[0m\u001b[0;34m\u001b[0m\u001b[0m\n",
      "\u001b[0;32m~/anaconda3/lib/python3.6/site-packages/modin/pandas/dataframe.py\u001b[0m in \u001b[0;36mmerge\u001b[0;34m(self, right, how, on, left_on, right_on, left_index, right_index, sort, suffixes, copy, indicator, validate)\u001b[0m\n\u001b[1;32m   2750\u001b[0m         \u001b[0;32mif\u001b[0m \u001b[0mleft_index\u001b[0m \u001b[0;32mis\u001b[0m \u001b[0;32mFalse\u001b[0m \u001b[0;32mor\u001b[0m \u001b[0mright_index\u001b[0m \u001b[0;32mis\u001b[0m \u001b[0;32mFalse\u001b[0m\u001b[0;34m:\u001b[0m\u001b[0;34m\u001b[0m\u001b[0m\n\u001b[1;32m   2751\u001b[0m             raise NotImplementedError(\n\u001b[0;32m-> 2752\u001b[0;31m                 \u001b[0;34m\"To contribute to Pandas on Ray, please visit \"\u001b[0m\u001b[0;34m\u001b[0m\u001b[0m\n\u001b[0m\u001b[1;32m   2753\u001b[0m                 \"github.com/modin-project/modin.\")\n\u001b[1;32m   2754\u001b[0m \u001b[0;34m\u001b[0m\u001b[0m\n",
      "\u001b[0;31mNotImplementedError\u001b[0m: To contribute to Pandas on Ray, please visit github.com/modin-project/modin."
     ]
    }
   ],
   "source": [
    "df_merge1 = df_mc.merge(df_conhecimento, on='Conhecimento')\n",
    "print(len(df_merge1))"
   ]
  },
  {
   "cell_type": "code",
   "execution_count": null,
   "metadata": {},
   "outputs": [],
   "source": [
    "df_manifesto = pd.read_csv('Manifesto.csv',\n",
    "                              encoding=ENCODE, dtype=str)\n",
    "df_manifesto.head()"
   ]
  },
  {
   "cell_type": "code",
   "execution_count": null,
   "metadata": {},
   "outputs": [],
   "source": [
    "df_em = pd.read_csv('EscalaManifesto.csv',\n",
    "                    encoding=ENCODE, dtype=str)\n",
    "df_em.head()"
   ]
  },
  {
   "cell_type": "code",
   "execution_count": null,
   "metadata": {},
   "outputs": [],
   "source": [
    "df_atracacao = pd.read_csv('AtracDesatracEscala.csv',\n",
    "                    encoding=ENCODE, dtype=str)\n",
    "df_atracacao.head()"
   ]
  },
  {
   "cell_type": "code",
   "execution_count": null,
   "metadata": {},
   "outputs": [],
   "source": [
    "dfm1 = df_atracacao.merge(df_em, left_on='Escala',right_on='Escala')"
   ]
  },
  {
   "cell_type": "code",
   "execution_count": null,
   "metadata": {},
   "outputs": [],
   "source": [
    "dfm1.head()"
   ]
  },
  {
   "cell_type": "code",
   "execution_count": null,
   "metadata": {},
   "outputs": [],
   "source": [
    "dfm2 = dfm1.merge(df_manifesto, left_on='Manifesto',right_on='Manifesto')"
   ]
  },
  {
   "cell_type": "code",
   "execution_count": null,
   "metadata": {},
   "outputs": [],
   "source": [
    "print(len(dfm2))\n",
    "dfm2.head()"
   ]
  },
  {
   "cell_type": "code",
   "execution_count": null,
   "metadata": {},
   "outputs": [],
   "source": [
    "dfm3 = dfm2.merge(df_mc, left_on='Manifesto',right_on='Manifesto')"
   ]
  },
  {
   "cell_type": "code",
   "execution_count": null,
   "metadata": {},
   "outputs": [],
   "source": [
    "print(len(dfm3))\n",
    "dfm3.head()"
   ]
  },
  {
   "cell_type": "code",
   "execution_count": null,
   "metadata": {},
   "outputs": [],
   "source": [
    "df_final = dfm3.merge(df_conhecimento, left_on='Conhecimento',right_on='Conhecimento')"
   ]
  },
  {
   "cell_type": "code",
   "execution_count": null,
   "metadata": {},
   "outputs": [],
   "source": [
    "print(len(df_final))\n",
    "df_final.head()"
   ]
  },
  {
   "cell_type": "code",
   "execution_count": null,
   "metadata": {},
   "outputs": [],
   "source": [
    "print(list(df_final.columns))"
   ]
  },
  {
   "cell_type": "code",
   "execution_count": null,
   "metadata": {},
   "outputs": [],
   "source": [
    "df_MBL = df_final[df_final['Tipo'] == 'MBL']\n",
    "print(len(df_MBL))"
   ]
  },
  {
   "cell_type": "code",
   "execution_count": null,
   "metadata": {},
   "outputs": [],
   "source": [
    "df_MBL = df_MBL[['Conhecimento', 'Tipo', 'DataAtracacao', 'HoraAtracacao']]\n",
    "df_MBL.head()"
   ]
  },
  {
   "cell_type": "code",
   "execution_count": null,
   "metadata": {},
   "outputs": [],
   "source": [
    "s1 = time.time()\n",
    "print(s0 - s1)\n",
    "print(f'{(s0 - s1):4f} segundos')"
   ]
  }
 ],
 "metadata": {
  "celltoolbar": "Slideshow",
  "kernelspec": {
   "display_name": "bhadrasana",
   "language": "python",
   "name": "bhadrasana"
  },
  "language_info": {
   "codemirror_mode": {
    "name": "ipython",
    "version": 3
   },
   "file_extension": ".py",
   "mimetype": "text/x-python",
   "name": "python",
   "nbconvert_exporter": "python",
   "pygments_lexer": "ipython3",
   "version": "3.6.4"
  }
 },
 "nbformat": 4,
 "nbformat_minor": 2
}
